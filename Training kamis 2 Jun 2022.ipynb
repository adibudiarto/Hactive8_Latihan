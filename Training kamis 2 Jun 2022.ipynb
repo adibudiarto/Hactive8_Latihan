{
 "cells": [
  {
   "cell_type": "code",
   "execution_count": 1,
   "id": "d7b09685",
   "metadata": {},
   "outputs": [
    {
     "name": "stdout",
     "output_type": "stream",
     "text": [
      "Collecting statistics\n",
      "  Downloading statistics-1.0.3.5.tar.gz (8.3 kB)\n",
      "Requirement already satisfied: docutils>=0.3 in c:\\users\\jktadi\\anaconda3\\lib\\site-packages (from statistics) (0.17.1)\n",
      "Building wheels for collected packages: statistics\n",
      "  Building wheel for statistics (setup.py): started\n",
      "  Building wheel for statistics (setup.py): finished with status 'done'\n",
      "  Created wheel for statistics: filename=statistics-1.0.3.5-py3-none-any.whl size=7452 sha256=e415e89813f24eae35130958de953ecea2069799b095b06fb87840469685e7dd\n",
      "  Stored in directory: c:\\users\\jktadi\\appdata\\local\\pip\\cache\\wheels\\26\\3c\\70\\9467407f3aa90862061eadcd286627b23a8bab6789b667776f\n",
      "Successfully built statistics\n",
      "Installing collected packages: statistics\n",
      "Successfully installed statistics-1.0.3.5\n",
      "Note: you may need to restart the kernel to use updated packages.\n"
     ]
    }
   ],
   "source": [
    "pip install statistics"
   ]
  },
  {
   "cell_type": "code",
   "execution_count": 2,
   "id": "f3ec332d",
   "metadata": {},
   "outputs": [
    {
     "name": "stdout",
     "output_type": "stream",
     "text": [
      "Requirement already satisfied: statistics in c:\\users\\jktadi\\anaconda3\\lib\\site-packages (1.0.3.5)\n",
      "Requirement already satisfied: docutils>=0.3 in c:\\users\\jktadi\\anaconda3\\lib\\site-packages (from statistics) (0.17.1)\n"
     ]
    }
   ],
   "source": [
    "!pip install statistics"
   ]
  },
  {
   "cell_type": "code",
   "execution_count": 4,
   "id": "fe7f2a44",
   "metadata": {},
   "outputs": [],
   "source": [
    " import statistics as start"
   ]
  },
  {
   "cell_type": "code",
   "execution_count": 9,
   "id": "eb02fa82",
   "metadata": {},
   "outputs": [],
   "source": [
    " import statistics as stat"
   ]
  },
  {
   "cell_type": "code",
   "execution_count": 10,
   "id": "83cef1c3",
   "metadata": {},
   "outputs": [],
   "source": [
    " import statistics as stat"
   ]
  },
  {
   "cell_type": "code",
   "execution_count": 11,
   "id": "d133f76b",
   "metadata": {},
   "outputs": [
    {
     "data": {
      "text/plain": [
       "3"
      ]
     },
     "execution_count": 11,
     "metadata": {},
     "output_type": "execute_result"
    }
   ],
   "source": [
    "stat.mean([1,2,3,4,5])"
   ]
  },
  {
   "cell_type": "code",
   "execution_count": 12,
   "id": "9599f67e",
   "metadata": {},
   "outputs": [
    {
     "data": {
      "text/plain": [
       "4.5"
      ]
     },
     "execution_count": 12,
     "metadata": {},
     "output_type": "execute_result"
    }
   ],
   "source": [
    "stat.median([1,2,3,4,5,6,7,10])"
   ]
  },
  {
   "cell_type": "code",
   "execution_count": 13,
   "id": "c0178f60",
   "metadata": {},
   "outputs": [
    {
     "ename": "SyntaxError",
     "evalue": "invalid syntax (Temp/ipykernel_6700/2665641352.py, line 1)",
     "output_type": "error",
     "traceback": [
      "\u001b[1;36m  File \u001b[1;32m\"C:\\Users\\jktadi\\AppData\\Local\\Temp/ipykernel_6700/2665641352.py\"\u001b[1;36m, line \u001b[1;32m1\u001b[0m\n\u001b[1;33m    stat.median{[1,2,3,7,8,10]}\u001b[0m\n\u001b[1;37m               ^\u001b[0m\n\u001b[1;31mSyntaxError\u001b[0m\u001b[1;31m:\u001b[0m invalid syntax\n"
     ]
    }
   ],
   "source": [
    "stat.median{[1,2,3,7,8,10]}"
   ]
  },
  {
   "cell_type": "code",
   "execution_count": 15,
   "id": "40acd8af",
   "metadata": {},
   "outputs": [
    {
     "data": {
      "text/plain": [
       "5.0"
      ]
     },
     "execution_count": 15,
     "metadata": {},
     "output_type": "execute_result"
    }
   ],
   "source": [
    "stat.median([1,2,3,7,8,9])"
   ]
  },
  {
   "cell_type": "code",
   "execution_count": 16,
   "id": "8458a325",
   "metadata": {},
   "outputs": [
    {
     "data": {
      "text/plain": [
       "4"
      ]
     },
     "execution_count": 16,
     "metadata": {},
     "output_type": "execute_result"
    }
   ],
   "source": [
    "stat.median_low([1,2,3,4,5,6,7,10])"
   ]
  },
  {
   "cell_type": "code",
   "execution_count": 17,
   "id": "7aaf9702",
   "metadata": {},
   "outputs": [
    {
     "data": {
      "text/plain": [
       "5"
      ]
     },
     "execution_count": 17,
     "metadata": {},
     "output_type": "execute_result"
    }
   ],
   "source": [
    "stat.median_high([1,2,3,4,5,6,7,10])"
   ]
  },
  {
   "cell_type": "code",
   "execution_count": 18,
   "id": "4afe29b0",
   "metadata": {},
   "outputs": [
    {
     "data": {
      "text/plain": [
       "6"
      ]
     },
     "execution_count": 18,
     "metadata": {},
     "output_type": "execute_result"
    }
   ],
   "source": [
    "stat.median([1,2,3,7,6,6,6,8,9])"
   ]
  },
  {
   "cell_type": "code",
   "execution_count": 19,
   "id": "e1c17767",
   "metadata": {},
   "outputs": [
    {
     "data": {
      "text/plain": [
       "2"
      ]
     },
     "execution_count": 19,
     "metadata": {},
     "output_type": "execute_result"
    }
   ],
   "source": [
    "stat.mode([1,2,3,4,5,6,7,10,2])"
   ]
  },
  {
   "cell_type": "code",
   "execution_count": 20,
   "id": "f115f111",
   "metadata": {},
   "outputs": [
    {
     "data": {
      "text/plain": [
       "4.5"
      ]
     },
     "execution_count": 20,
     "metadata": {},
     "output_type": "execute_result"
    }
   ],
   "source": [
    "stat.median([1,2,3,4,5,6,7,8])"
   ]
  },
  {
   "cell_type": "code",
   "execution_count": 21,
   "id": "41397294",
   "metadata": {},
   "outputs": [
    {
     "data": {
      "text/plain": [
       "4.5"
      ]
     },
     "execution_count": 21,
     "metadata": {},
     "output_type": "execute_result"
    }
   ],
   "source": [
    "stat.median([1,2,3,4,5,6,7,10])"
   ]
  },
  {
   "cell_type": "code",
   "execution_count": 22,
   "id": "dadd21d4",
   "metadata": {},
   "outputs": [
    {
     "data": {
      "text/plain": [
       "4.5"
      ]
     },
     "execution_count": 22,
     "metadata": {},
     "output_type": "execute_result"
    }
   ],
   "source": [
    "stat.median([1,2,3,4,5,6,7,15])"
   ]
  },
  {
   "cell_type": "code",
   "execution_count": 24,
   "id": "61b31583",
   "metadata": {},
   "outputs": [
    {
     "data": {
      "text/plain": [
       "8.5"
      ]
     },
     "execution_count": 24,
     "metadata": {},
     "output_type": "execute_result"
    }
   ],
   "source": [
    "stat.median([1,6,7,8,9,10,11,12])"
   ]
  },
  {
   "cell_type": "code",
   "execution_count": 25,
   "id": "7895cd35",
   "metadata": {},
   "outputs": [
    {
     "data": {
      "text/plain": [
       "8.5"
      ]
     },
     "execution_count": 25,
     "metadata": {},
     "output_type": "execute_result"
    }
   ],
   "source": [
    "stat.median([3,6,7,8,9,10,11,12])"
   ]
  },
  {
   "cell_type": "code",
   "execution_count": 26,
   "id": "594cf25e",
   "metadata": {},
   "outputs": [
    {
     "data": {
      "text/plain": [
       "8.5"
      ]
     },
     "execution_count": 26,
     "metadata": {},
     "output_type": "execute_result"
    }
   ],
   "source": [
    "stat.median([3,6,7,8,9,10,100,120])"
   ]
  },
  {
   "cell_type": "code",
   "execution_count": 27,
   "id": "495a8911",
   "metadata": {},
   "outputs": [
    {
     "data": {
      "text/plain": [
       "11.826993606905255"
      ]
     },
     "execution_count": 27,
     "metadata": {},
     "output_type": "execute_result"
    }
   ],
   "source": [
    "stat.stdev([89,54,98,76,87,87,82,90,78,80])"
   ]
  },
  {
   "cell_type": "code",
   "execution_count": 28,
   "id": "ee08c2f1",
   "metadata": {},
   "outputs": [
    {
     "data": {
      "text/plain": [
       "82.1"
      ]
     },
     "execution_count": 28,
     "metadata": {},
     "output_type": "execute_result"
    }
   ],
   "source": [
    "stat.mean([89,54,98,76,87,87,82,90,78,80])"
   ]
  },
  {
   "cell_type": "code",
   "execution_count": 29,
   "id": "d200d085",
   "metadata": {},
   "outputs": [],
   "source": [
    "import numpy as np"
   ]
  },
  {
   "cell_type": "code",
   "execution_count": 34,
   "id": "70a74c9b",
   "metadata": {},
   "outputs": [
    {
     "name": "stdout",
     "output_type": "stream",
     "text": [
      "[1 2 3 4 5 6 7 8]\n"
     ]
    }
   ],
   "source": [
    "a= np.arange(1,9)\n",
    "print( a)"
   ]
  },
  {
   "cell_type": "code",
   "execution_count": 35,
   "id": "51725268",
   "metadata": {},
   "outputs": [
    {
     "name": "stdout",
     "output_type": "stream",
     "text": [
      "2\n"
     ]
    }
   ],
   "source": [
    "print(a[1])"
   ]
  },
  {
   "cell_type": "code",
   "execution_count": 36,
   "id": "db28ec7e",
   "metadata": {},
   "outputs": [
    {
     "name": "stdout",
     "output_type": "stream",
     "text": [
      "[[1 2 3 4]\n",
      " [5 6 7 8]]\n"
     ]
    }
   ],
   "source": [
    "a=a.reshape([2,4])\n",
    "print(a)"
   ]
  },
  {
   "cell_type": "code",
   "execution_count": 37,
   "id": "c2fed4d2",
   "metadata": {},
   "outputs": [
    {
     "name": "stdout",
     "output_type": "stream",
     "text": [
      "[[1 2 3 4]\n",
      " [5 6 7 8]]\n"
     ]
    }
   ],
   "source": [
    "a=a.reshape((2,4)) # ini keterangan matrix 2, 4\n",
    "print(a)"
   ]
  },
  {
   "cell_type": "code",
   "execution_count": 38,
   "id": "6997f85f",
   "metadata": {},
   "outputs": [
    {
     "name": "stdout",
     "output_type": "stream",
     "text": [
      "4.5\n"
     ]
    }
   ],
   "source": [
    "print (np.mean(a))"
   ]
  },
  {
   "cell_type": "code",
   "execution_count": 47,
   "id": "cee57ae8",
   "metadata": {},
   "outputs": [
    {
     "name": "stdout",
     "output_type": "stream",
     "text": [
      "None\n"
     ]
    }
   ],
   "source": [
    "print(np.random.shuffle(a))"
   ]
  },
  {
   "cell_type": "code",
   "execution_count": 40,
   "id": "61f7744a",
   "metadata": {},
   "outputs": [],
   "source": [
    "np.random.shuffle(a)"
   ]
  },
  {
   "cell_type": "code",
   "execution_count": 44,
   "id": "51837d6d",
   "metadata": {},
   "outputs": [
    {
     "name": "stdout",
     "output_type": "stream",
     "text": [
      "[[1 2 3 4]\n",
      " [5 6 7 8]]\n"
     ]
    }
   ],
   "source": [
    "np.random.shuffle(a)\n",
    "print (a)"
   ]
  },
  {
   "cell_type": "code",
   "execution_count": 45,
   "id": "8a6b7cfd",
   "metadata": {},
   "outputs": [
    {
     "name": "stdout",
     "output_type": "stream",
     "text": [
      "1\n"
     ]
    }
   ],
   "source": [
    "print (np.min(a))"
   ]
  },
  {
   "cell_type": "code",
   "execution_count": 53,
   "id": "547f7f7b",
   "metadata": {},
   "outputs": [
    {
     "name": "stdout",
     "output_type": "stream",
     "text": [
      "8\n"
     ]
    }
   ],
   "source": [
    "print(np.max(a))"
   ]
  },
  {
   "cell_type": "code",
   "execution_count": 57,
   "id": "b3a7550f",
   "metadata": {},
   "outputs": [
    {
     "name": "stdout",
     "output_type": "stream",
     "text": [
      "100.0\n"
     ]
    }
   ],
   "source": [
    "c=np.array([10,15,100,200,300])\n",
    "print(np.median(c))"
   ]
  },
  {
   "cell_type": "code",
   "execution_count": 58,
   "id": "a980485c",
   "metadata": {},
   "outputs": [
    {
     "ename": "SyntaxError",
     "evalue": "invalid syntax (Temp/ipykernel_6700/1149855917.py, line 1)",
     "output_type": "error",
     "traceback": [
      "\u001b[1;36m  File \u001b[1;32m\"C:\\Users\\jktadi\\AppData\\Local\\Temp/ipykernel_6700/1149855917.py\"\u001b[1;36m, line \u001b[1;32m1\u001b[0m\n\u001b[1;33m    git version\u001b[0m\n\u001b[1;37m        ^\u001b[0m\n\u001b[1;31mSyntaxError\u001b[0m\u001b[1;31m:\u001b[0m invalid syntax\n"
     ]
    }
   ],
   "source": [
    "git version"
   ]
  },
  {
   "cell_type": "code",
   "execution_count": null,
   "id": "e6de335e",
   "metadata": {},
   "outputs": [],
   "source": []
  }
 ],
 "metadata": {
  "kernelspec": {
   "display_name": "Python 3 (ipykernel)",
   "language": "python",
   "name": "python3"
  },
  "language_info": {
   "codemirror_mode": {
    "name": "ipython",
    "version": 3
   },
   "file_extension": ".py",
   "mimetype": "text/x-python",
   "name": "python",
   "nbconvert_exporter": "python",
   "pygments_lexer": "ipython3",
   "version": "3.9.7"
  }
 },
 "nbformat": 4,
 "nbformat_minor": 5
}
